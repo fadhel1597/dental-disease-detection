{
 "cells": [
  {
   "cell_type": "code",
   "execution_count": 25,
   "metadata": {},
   "outputs": [],
   "source": [
    "import cv2\n",
    "import json\n",
    "\n",
    "import numpy as np\n",
    "from keras.models import load_model"
   ]
  },
  {
   "cell_type": "code",
   "execution_count": 26,
   "metadata": {},
   "outputs": [],
   "source": [
    "def load_image(image):\n",
    "    image = cv2.imread(image)\n",
    "    image = cv2.cvtColor(image, cv2.COLOR_BGR2RGB)  # Convert BGR to RGB\n",
    "    image = cv2.resize(image, (150, 150))  # Resize\n",
    "    image = image / 255.0  # Normalize pixel values to [0, 1]\n",
    "    image = np.expand_dims(image, axis=0)\n",
    "    return image"
   ]
  },
  {
   "cell_type": "code",
   "execution_count": 27,
   "metadata": {},
   "outputs": [],
   "source": [
    "# Load the model\n",
    "loaded_model = load_model(\"/home/fadhel/Workspaces/intern/dental-disease-detection/weights/VGG16.h5\")\n",
    "\n",
    "# img = load_image(\"tests/croosbite.jpg\")\n",
    "# pre_prob = loaded_model.predict(img)\n",
    "# y_pred = (pre_prob > 0.45).astype(int)\n",
    "\n",
    "labels = ['Unlabeled', 'crossbite', 'normal', 'openbite', 'overbite', 'underbite']\n",
    "\n",
    "img = load_image(\"/home/fadhel/Workspaces/intern/dental-disease-detection/tests/croosbite.jpg\")\n",
    "pre_prob = loaded_model.predict(img)\n",
    "y_pred = (pre_prob > 0.5).astype(int)"
   ]
  },
  {
   "cell_type": "code",
   "execution_count": 29,
   "metadata": {},
   "outputs": [],
   "source": [
    "y_pred = [[0, 1, 0, 1, 0, 0]]"
   ]
  },
  {
   "cell_type": "code",
   "execution_count": 30,
   "metadata": {},
   "outputs": [
    {
     "name": "stdout",
     "output_type": "stream",
     "text": [
      "JSON Representation of Detected Labels:\n",
      "{\"detected_labels\": [\"crossbite\", \"openbite\"]}\n"
     ]
    }
   ],
   "source": [
    "detected_labels = [labels[i] for i in range(len(labels)) if y_pred[0][i] == 1]\n",
    "\n",
    "# Create a dictionary to store the detected labels\n",
    "result = {\"detected_labels\": detected_labels}\n",
    "\n",
    "# Convert the dictionary to JSON format\n",
    "json_result = json.dumps(result)\n",
    "\n",
    "print(\"JSON Representation of Detected Labels:\")\n",
    "print(json_result)"
   ]
  }
 ],
 "metadata": {
  "kernelspec": {
   "display_name": ".venv",
   "language": "python",
   "name": "python3"
  },
  "language_info": {
   "codemirror_mode": {
    "name": "ipython",
    "version": 3
   },
   "file_extension": ".py",
   "mimetype": "text/x-python",
   "name": "python",
   "nbconvert_exporter": "python",
   "pygments_lexer": "ipython3",
   "version": "3.8.10"
  },
  "orig_nbformat": 4
 },
 "nbformat": 4,
 "nbformat_minor": 2
}
