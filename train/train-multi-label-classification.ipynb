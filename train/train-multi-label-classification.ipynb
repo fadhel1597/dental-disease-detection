{
 "cells": [
  {
   "cell_type": "code",
   "execution_count": 2,
   "metadata": {},
   "outputs": [],
   "source": [
    "import os\n",
    "from tensorflow import keras\n",
    "from keras.models import Sequential\n",
    "\n",
    "from keras.layers import Dense, Dropout, Flatten\n",
    "from keras.layers import Conv2D, MaxPooling2D\n",
    "from keras.preprocessing import image\n",
    "from keras.applications.vgg16 import VGG16\n",
    "\n",
    "import numpy as np\n",
    "import pandas as pd\n",
    "import matplotlib.pyplot as plt\n",
    "\n",
    "from sklearn.model_selection import train_test_split\n",
    "from tqdm import tqdm\n",
    "from keras.layers import BatchNormalization\n",
    "\n",
    "import cv2"
   ]
  },
  {
   "cell_type": "code",
   "execution_count": 2,
   "metadata": {},
   "outputs": [
    {
     "data": {
      "text/html": [
       "<div>\n",
       "<style scoped>\n",
       "    .dataframe tbody tr th:only-of-type {\n",
       "        vertical-align: middle;\n",
       "    }\n",
       "\n",
       "    .dataframe tbody tr th {\n",
       "        vertical-align: top;\n",
       "    }\n",
       "\n",
       "    .dataframe thead th {\n",
       "        text-align: right;\n",
       "    }\n",
       "</style>\n",
       "<table border=\"1\" class=\"dataframe\">\n",
       "  <thead>\n",
       "    <tr style=\"text-align: right;\">\n",
       "      <th></th>\n",
       "      <th>filename</th>\n",
       "      <th>Unlabeled</th>\n",
       "      <th>crossbite</th>\n",
       "      <th>normal</th>\n",
       "      <th>openbite</th>\n",
       "      <th>overbite</th>\n",
       "      <th>underbite</th>\n",
       "    </tr>\n",
       "  </thead>\n",
       "  <tbody>\n",
       "    <tr>\n",
       "      <th>0</th>\n",
       "      <td>crossbite-55_png.rf.cb478819018a0965c6101b65c6...</td>\n",
       "      <td>0</td>\n",
       "      <td>1</td>\n",
       "      <td>0</td>\n",
       "      <td>0</td>\n",
       "      <td>0</td>\n",
       "      <td>0</td>\n",
       "    </tr>\n",
       "    <tr>\n",
       "      <th>1</th>\n",
       "      <td>openbite-57_png.rf.cb92146b66b084917d2a2dd8ea4...</td>\n",
       "      <td>0</td>\n",
       "      <td>0</td>\n",
       "      <td>0</td>\n",
       "      <td>1</td>\n",
       "      <td>0</td>\n",
       "      <td>0</td>\n",
       "    </tr>\n",
       "    <tr>\n",
       "      <th>2</th>\n",
       "      <td>underbite-19_png.rf.cbe70ee74f3e6cc63ed7d9c2ea...</td>\n",
       "      <td>0</td>\n",
       "      <td>1</td>\n",
       "      <td>0</td>\n",
       "      <td>0</td>\n",
       "      <td>0</td>\n",
       "      <td>1</td>\n",
       "    </tr>\n",
       "    <tr>\n",
       "      <th>3</th>\n",
       "      <td>crossbite-12_jpeg.rf.cc19da26efe5e417325030b8a...</td>\n",
       "      <td>0</td>\n",
       "      <td>1</td>\n",
       "      <td>0</td>\n",
       "      <td>0</td>\n",
       "      <td>0</td>\n",
       "      <td>0</td>\n",
       "    </tr>\n",
       "    <tr>\n",
       "      <th>4</th>\n",
       "      <td>openbite-38_jpeg.rf.cc21ca0d5ac758e309b6464481...</td>\n",
       "      <td>0</td>\n",
       "      <td>0</td>\n",
       "      <td>0</td>\n",
       "      <td>1</td>\n",
       "      <td>0</td>\n",
       "      <td>0</td>\n",
       "    </tr>\n",
       "  </tbody>\n",
       "</table>\n",
       "</div>"
      ],
      "text/plain": [
       "                                            filename   Unlabeled   crossbite  \\\n",
       "0  crossbite-55_png.rf.cb478819018a0965c6101b65c6...           0           1   \n",
       "1  openbite-57_png.rf.cb92146b66b084917d2a2dd8ea4...           0           0   \n",
       "2  underbite-19_png.rf.cbe70ee74f3e6cc63ed7d9c2ea...           0           1   \n",
       "3  crossbite-12_jpeg.rf.cc19da26efe5e417325030b8a...           0           1   \n",
       "4  openbite-38_jpeg.rf.cc21ca0d5ac758e309b6464481...           0           0   \n",
       "\n",
       "    normal   openbite   overbite   underbite  \n",
       "0        0          0          0           0  \n",
       "1        0          1          0           0  \n",
       "2        0          0          0           1  \n",
       "3        0          0          0           0  \n",
       "4        0          1          0           0  "
      ]
     },
     "execution_count": 2,
     "metadata": {},
     "output_type": "execute_result"
    }
   ],
   "source": [
    "# Set the image directory and read metadata\n",
    "image_directory = 'dataset_multilabel/train'\n",
    "metadata_path = os.path.join(image_directory, '_classes.csv')\n",
    "\n",
    "# Load metadata into a DataFrame\n",
    "data = pd.read_csv(metadata_path)\n",
    "data.head()"
   ]
  },
  {
   "cell_type": "code",
   "execution_count": 3,
   "metadata": {},
   "outputs": [],
   "source": [
    "# Preprocessing function to load and preprocess images\n",
    "def load_and_preprocess_image(filename):\n",
    "    # Construct the full image path\n",
    "    image_path = os.path.join(image_directory, filename)\n",
    "    \n",
    "    # Load and preprocess the image\n",
    "    image = cv2.imread(image_path)\n",
    "    image = cv2.cvtColor(image, cv2.COLOR_BGR2RGB)  # Convert BGR to RGB\n",
    "    image = cv2.resize(image, (150, 150))  # Resize\n",
    "    image = image / 255.0  # Normalize pixel values to [0, 1]\n",
    "    return image"
   ]
  },
  {
   "cell_type": "code",
   "execution_count": 4,
   "metadata": {},
   "outputs": [],
   "source": [
    "# Apply the preprocessing function to all images in the DataFrame\n",
    "image = data['filename'].apply(load_and_preprocess_image).to_list()"
   ]
  },
  {
   "cell_type": "code",
   "execution_count": 5,
   "metadata": {},
   "outputs": [],
   "source": [
    "X = np.array(image)\n",
    "y = np.array(data.drop(['filename'], axis=1))"
   ]
  },
  {
   "cell_type": "code",
   "execution_count": 6,
   "metadata": {},
   "outputs": [],
   "source": [
    "# First, split the data into training and remaining using 70% for training\n",
    "X_train, X_remaining, y_train, y_remaining = train_test_split(X, y, test_size=0.3, random_state=42)\n",
    "\n",
    "# Then split the remaining data into testing and validation sets (15% each of the original data)\n",
    "X_test, X_val, y_test, y_val = train_test_split(X_remaining, y_remaining, test_size=0.5, random_state=42)"
   ]
  },
  {
   "cell_type": "code",
   "execution_count": 7,
   "metadata": {},
   "outputs": [
    {
     "name": "stderr",
     "output_type": "stream",
     "text": [
      "2023-09-16 13:43:28.873369: I tensorflow/stream_executor/cuda/cuda_gpu_executor.cc:975] successful NUMA node read from SysFS had negative value (-1), but there must be at least one NUMA node, so returning NUMA node zero\n",
      "2023-09-16 13:43:28.929184: I tensorflow/stream_executor/cuda/cuda_gpu_executor.cc:975] successful NUMA node read from SysFS had negative value (-1), but there must be at least one NUMA node, so returning NUMA node zero\n",
      "2023-09-16 13:43:28.929320: I tensorflow/stream_executor/cuda/cuda_gpu_executor.cc:975] successful NUMA node read from SysFS had negative value (-1), but there must be at least one NUMA node, so returning NUMA node zero\n",
      "2023-09-16 13:43:28.930092: I tensorflow/core/platform/cpu_feature_guard.cc:193] This TensorFlow binary is optimized with oneAPI Deep Neural Network Library (oneDNN) to use the following CPU instructions in performance-critical operations:  AVX2 AVX512F AVX512_VNNI FMA\n",
      "To enable them in other operations, rebuild TensorFlow with the appropriate compiler flags.\n",
      "2023-09-16 13:43:28.931251: I tensorflow/stream_executor/cuda/cuda_gpu_executor.cc:975] successful NUMA node read from SysFS had negative value (-1), but there must be at least one NUMA node, so returning NUMA node zero\n",
      "2023-09-16 13:43:28.931397: I tensorflow/stream_executor/cuda/cuda_gpu_executor.cc:975] successful NUMA node read from SysFS had negative value (-1), but there must be at least one NUMA node, so returning NUMA node zero\n",
      "2023-09-16 13:43:28.931487: I tensorflow/stream_executor/cuda/cuda_gpu_executor.cc:975] successful NUMA node read from SysFS had negative value (-1), but there must be at least one NUMA node, so returning NUMA node zero\n",
      "2023-09-16 13:43:29.876405: I tensorflow/stream_executor/cuda/cuda_gpu_executor.cc:975] successful NUMA node read from SysFS had negative value (-1), but there must be at least one NUMA node, so returning NUMA node zero\n",
      "2023-09-16 13:43:29.876571: I tensorflow/stream_executor/cuda/cuda_gpu_executor.cc:975] successful NUMA node read from SysFS had negative value (-1), but there must be at least one NUMA node, so returning NUMA node zero\n",
      "2023-09-16 13:43:29.876683: I tensorflow/stream_executor/cuda/cuda_gpu_executor.cc:975] successful NUMA node read from SysFS had negative value (-1), but there must be at least one NUMA node, so returning NUMA node zero\n",
      "2023-09-16 13:43:29.876774: I tensorflow/core/common_runtime/gpu/gpu_device.cc:1532] Created device /job:localhost/replica:0/task:0/device:GPU:0 with 2876 MB memory:  -> device: 0, name: NVIDIA GeForce GTX 1050 Ti, pci bus id: 0000:01:00.0, compute capability: 6.1\n"
     ]
    }
   ],
   "source": [
    "# Load the pre-trained VGG16 model\n",
    "vgg16_model = VGG16(weights='imagenet', include_top=False, input_shape=(150, 150, 3))\n",
    "\n",
    "# Set the pre-trained layers as non-trainable\n",
    "for layer in vgg16_model.layers:\n",
    "    layer.trainable = True\n",
    "\n",
    "# Build the model by adding the VGG16 base and additional layers\n",
    "model = keras.Sequential([\n",
    "    vgg16_model,\n",
    "    keras.layers.Flatten(),\n",
    "    keras.layers.Dense(64, activation='relu'),\n",
    "    keras.layers.Dropout(0.1),\n",
    "    keras.layers.Dense(6, activation='sigmoid')\n",
    "])"
   ]
  },
  {
   "cell_type": "code",
   "execution_count": 8,
   "metadata": {},
   "outputs": [
    {
     "name": "stdout",
     "output_type": "stream",
     "text": [
      "Model: \"sequential\"\n",
      "_________________________________________________________________\n",
      " Layer (type)                Output Shape              Param #   \n",
      "=================================================================\n",
      " vgg16 (Functional)          (None, 4, 4, 512)         14714688  \n",
      "                                                                 \n",
      " flatten (Flatten)           (None, 8192)              0         \n",
      "                                                                 \n",
      " dense (Dense)               (None, 64)                524352    \n",
      "                                                                 \n",
      " dropout (Dropout)           (None, 64)                0         \n",
      "                                                                 \n",
      " dense_1 (Dense)             (None, 6)                 390       \n",
      "                                                                 \n",
      "=================================================================\n",
      "Total params: 15,239,430\n",
      "Trainable params: 524,742\n",
      "Non-trainable params: 14,714,688\n",
      "_________________________________________________________________\n",
      "Epoch 1/50\n"
     ]
    },
    {
     "name": "stderr",
     "output_type": "stream",
     "text": [
      "2023-09-16 13:43:31.638360: I tensorflow/stream_executor/cuda/cuda_dnn.cc:384] Loaded cuDNN version 8201\n",
      "2023-09-16 13:43:33.958464: W tensorflow/core/common_runtime/bfc_allocator.cc:290] Allocator (GPU_0_bfc) ran out of memory trying to allocate 2.54GiB with freed_by_count=0. The caller indicates that this is not a failure, but this may mean that there could be performance gains if more memory were available.\n"
     ]
    },
    {
     "name": "stdout",
     "output_type": "stream",
     "text": [
      "42/42 [==============================] - ETA: 0s - loss: 0.4122 - accuracy: 0.4331"
     ]
    },
    {
     "name": "stderr",
     "output_type": "stream",
     "text": [
      "2023-09-16 13:43:41.414129: W tensorflow/core/common_runtime/bfc_allocator.cc:290] Allocator (GPU_0_bfc) ran out of memory trying to allocate 2.50GiB with freed_by_count=0. The caller indicates that this is not a failure, but this may mean that there could be performance gains if more memory were available.\n"
     ]
    },
    {
     "name": "stdout",
     "output_type": "stream",
     "text": [
      "42/42 [==============================] - 12s 181ms/step - loss: 0.4122 - accuracy: 0.4331 - val_loss: 0.2988 - val_accuracy: 0.7203\n",
      "Epoch 2/50\n",
      "42/42 [==============================] - 5s 117ms/step - loss: 0.2902 - accuracy: 0.6316 - val_loss: 0.2590 - val_accuracy: 0.6503\n",
      "Epoch 3/50\n",
      "42/42 [==============================] - 5s 114ms/step - loss: 0.2341 - accuracy: 0.7233 - val_loss: 0.2423 - val_accuracy: 0.6573\n",
      "Epoch 4/50\n",
      "42/42 [==============================] - 5s 113ms/step - loss: 0.1941 - accuracy: 0.7850 - val_loss: 0.2241 - val_accuracy: 0.7063\n",
      "Epoch 5/50\n",
      "42/42 [==============================] - 5s 109ms/step - loss: 0.1865 - accuracy: 0.7940 - val_loss: 0.2018 - val_accuracy: 0.7622\n",
      "Epoch 6/50\n",
      "42/42 [==============================] - 5s 114ms/step - loss: 0.1605 - accuracy: 0.8361 - val_loss: 0.2063 - val_accuracy: 0.7972\n",
      "Epoch 7/50\n",
      "42/42 [==============================] - 5s 118ms/step - loss: 0.1394 - accuracy: 0.8526 - val_loss: 0.1868 - val_accuracy: 0.8112\n",
      "Epoch 8/50\n",
      "42/42 [==============================] - 4s 107ms/step - loss: 0.1318 - accuracy: 0.8812 - val_loss: 0.1774 - val_accuracy: 0.8252\n",
      "Epoch 9/50\n",
      "42/42 [==============================] - 4s 108ms/step - loss: 0.1147 - accuracy: 0.8917 - val_loss: 0.1703 - val_accuracy: 0.8252\n",
      "Epoch 10/50\n",
      "42/42 [==============================] - 4s 108ms/step - loss: 0.0944 - accuracy: 0.9158 - val_loss: 0.1546 - val_accuracy: 0.8462\n",
      "Epoch 11/50\n",
      "42/42 [==============================] - 5s 111ms/step - loss: 0.0853 - accuracy: 0.9368 - val_loss: 0.1573 - val_accuracy: 0.8392\n",
      "Epoch 12/50\n",
      "42/42 [==============================] - 5s 119ms/step - loss: 0.0767 - accuracy: 0.9368 - val_loss: 0.1525 - val_accuracy: 0.8322\n",
      "Epoch 13/50\n",
      "42/42 [==============================] - 5s 121ms/step - loss: 0.0693 - accuracy: 0.9323 - val_loss: 0.1426 - val_accuracy: 0.8322\n",
      "Epoch 14/50\n",
      "42/42 [==============================] - 5s 121ms/step - loss: 0.0642 - accuracy: 0.9429 - val_loss: 0.1327 - val_accuracy: 0.8881\n",
      "Epoch 15/50\n",
      "42/42 [==============================] - 5s 116ms/step - loss: 0.0538 - accuracy: 0.9519 - val_loss: 0.1381 - val_accuracy: 0.8811\n",
      "Epoch 16/50\n",
      "42/42 [==============================] - 5s 111ms/step - loss: 0.0503 - accuracy: 0.9549 - val_loss: 0.1410 - val_accuracy: 0.8601\n",
      "Epoch 17/50\n",
      "42/42 [==============================] - 5s 115ms/step - loss: 0.0451 - accuracy: 0.9609 - val_loss: 0.1377 - val_accuracy: 0.8462\n",
      "Epoch 18/50\n",
      "42/42 [==============================] - 5s 118ms/step - loss: 0.0394 - accuracy: 0.9534 - val_loss: 0.1231 - val_accuracy: 0.8951\n",
      "Epoch 19/50\n",
      "42/42 [==============================] - 5s 121ms/step - loss: 0.0385 - accuracy: 0.9609 - val_loss: 0.1209 - val_accuracy: 0.8881\n",
      "Epoch 20/50\n",
      "42/42 [==============================] - 5s 118ms/step - loss: 0.0332 - accuracy: 0.9564 - val_loss: 0.1455 - val_accuracy: 0.8322\n",
      "Epoch 21/50\n",
      "42/42 [==============================] - 5s 112ms/step - loss: 0.0350 - accuracy: 0.9609 - val_loss: 0.1259 - val_accuracy: 0.8951\n",
      "Epoch 22/50\n",
      "42/42 [==============================] - 5s 112ms/step - loss: 0.0324 - accuracy: 0.9624 - val_loss: 0.1178 - val_accuracy: 0.8671\n",
      "Epoch 23/50\n",
      "42/42 [==============================] - 5s 112ms/step - loss: 0.0276 - accuracy: 0.9699 - val_loss: 0.1238 - val_accuracy: 0.8881\n",
      "Epoch 24/50\n",
      "42/42 [==============================] - 5s 112ms/step - loss: 0.0258 - accuracy: 0.9654 - val_loss: 0.1132 - val_accuracy: 0.8881\n",
      "Epoch 25/50\n",
      "42/42 [==============================] - 5s 112ms/step - loss: 0.0209 - accuracy: 0.9654 - val_loss: 0.1294 - val_accuracy: 0.8881\n",
      "Epoch 26/50\n",
      "42/42 [==============================] - 5s 112ms/step - loss: 0.0217 - accuracy: 0.9729 - val_loss: 0.1266 - val_accuracy: 0.8811\n",
      "Epoch 27/50\n",
      "42/42 [==============================] - 5s 112ms/step - loss: 0.0235 - accuracy: 0.9684 - val_loss: 0.1308 - val_accuracy: 0.8601\n",
      "Epoch 28/50\n",
      "42/42 [==============================] - 5s 112ms/step - loss: 0.0183 - accuracy: 0.9684 - val_loss: 0.1278 - val_accuracy: 0.8881\n",
      "Epoch 29/50\n",
      "42/42 [==============================] - 5s 112ms/step - loss: 0.0165 - accuracy: 0.9774 - val_loss: 0.1198 - val_accuracy: 0.9021\n",
      "Epoch 30/50\n",
      "42/42 [==============================] - 5s 112ms/step - loss: 0.0145 - accuracy: 0.9789 - val_loss: 0.1202 - val_accuracy: 0.9021\n",
      "Epoch 31/50\n",
      "42/42 [==============================] - 5s 113ms/step - loss: 0.0142 - accuracy: 0.9684 - val_loss: 0.1220 - val_accuracy: 0.8951\n",
      "Epoch 32/50\n",
      "42/42 [==============================] - 5s 113ms/step - loss: 0.0125 - accuracy: 0.9729 - val_loss: 0.1206 - val_accuracy: 0.9021\n",
      "Epoch 33/50\n",
      "42/42 [==============================] - 5s 113ms/step - loss: 0.0123 - accuracy: 0.9759 - val_loss: 0.1314 - val_accuracy: 0.8881\n",
      "Epoch 34/50\n",
      "42/42 [==============================] - 5s 113ms/step - loss: 0.0126 - accuracy: 0.9684 - val_loss: 0.1269 - val_accuracy: 0.9021\n",
      "Epoch 35/50\n",
      "42/42 [==============================] - 5s 112ms/step - loss: 0.0125 - accuracy: 0.9714 - val_loss: 0.1282 - val_accuracy: 0.8951\n",
      "Epoch 36/50\n",
      "42/42 [==============================] - 5s 113ms/step - loss: 0.0100 - accuracy: 0.9835 - val_loss: 0.1231 - val_accuracy: 0.8951\n",
      "Epoch 37/50\n",
      "42/42 [==============================] - 5s 113ms/step - loss: 0.0116 - accuracy: 0.9714 - val_loss: 0.1209 - val_accuracy: 0.8881\n",
      "Epoch 38/50\n",
      "42/42 [==============================] - 5s 112ms/step - loss: 0.0119 - accuracy: 0.9714 - val_loss: 0.1454 - val_accuracy: 0.8811\n",
      "Epoch 39/50\n",
      "42/42 [==============================] - 5s 113ms/step - loss: 0.0098 - accuracy: 0.9714 - val_loss: 0.1226 - val_accuracy: 0.8951\n",
      "Epoch 40/50\n",
      "42/42 [==============================] - 5s 113ms/step - loss: 0.0102 - accuracy: 0.9759 - val_loss: 0.1362 - val_accuracy: 0.8671\n",
      "Epoch 41/50\n",
      "42/42 [==============================] - 5s 112ms/step - loss: 0.0095 - accuracy: 0.9789 - val_loss: 0.1211 - val_accuracy: 0.8951\n",
      "Epoch 42/50\n",
      "42/42 [==============================] - 5s 113ms/step - loss: 0.0091 - accuracy: 0.9744 - val_loss: 0.1230 - val_accuracy: 0.8951\n",
      "Epoch 43/50\n",
      "42/42 [==============================] - 5s 112ms/step - loss: 0.0092 - accuracy: 0.9774 - val_loss: 0.1370 - val_accuracy: 0.8671\n",
      "Epoch 44/50\n",
      "42/42 [==============================] - 5s 113ms/step - loss: 0.0077 - accuracy: 0.9684 - val_loss: 0.1456 - val_accuracy: 0.8741\n",
      "Epoch 45/50\n",
      "42/42 [==============================] - 5s 113ms/step - loss: 0.0076 - accuracy: 0.9729 - val_loss: 0.1261 - val_accuracy: 0.9021\n",
      "Epoch 46/50\n",
      "42/42 [==============================] - 5s 112ms/step - loss: 0.0099 - accuracy: 0.9744 - val_loss: 0.1643 - val_accuracy: 0.8531\n",
      "Epoch 47/50\n",
      "42/42 [==============================] - 5s 112ms/step - loss: 0.0073 - accuracy: 0.9805 - val_loss: 0.1593 - val_accuracy: 0.8531\n",
      "Epoch 48/50\n",
      "42/42 [==============================] - 5s 112ms/step - loss: 0.0102 - accuracy: 0.9684 - val_loss: 0.1425 - val_accuracy: 0.9021\n",
      "Epoch 49/50\n",
      "42/42 [==============================] - 5s 113ms/step - loss: 0.0068 - accuracy: 0.9835 - val_loss: 0.1357 - val_accuracy: 0.8741\n",
      "Epoch 50/50\n",
      "42/42 [==============================] - 5s 112ms/step - loss: 0.0076 - accuracy: 0.9669 - val_loss: 0.1367 - val_accuracy: 0.8881\n"
     ]
    }
   ],
   "source": [
    "model.summary()\n",
    "model.compile(optimizer='adam', loss='binary_crossentropy', metrics=['accuracy'])\n",
    "history = model.fit(X_train, y_train, epochs=50, validation_data=(X_test, y_test), batch_size=16)"
   ]
  },
  {
   "cell_type": "code",
   "execution_count": 9,
   "metadata": {},
   "outputs": [
    {
     "name": "stderr",
     "output_type": "stream",
     "text": [
      "2023-09-16 13:47:35.085378: W tensorflow/core/common_runtime/bfc_allocator.cc:290] Allocator (GPU_0_bfc) ran out of memory trying to allocate 3.04GiB with freed_by_count=0. The caller indicates that this is not a failure, but this may mean that there could be performance gains if more memory were available.\n",
      "2023-09-16 13:47:35.533127: W tensorflow/core/common_runtime/bfc_allocator.cc:290] Allocator (GPU_0_bfc) ran out of memory trying to allocate 2.55GiB with freed_by_count=0. The caller indicates that this is not a failure, but this may mean that there could be performance gains if more memory were available.\n"
     ]
    },
    {
     "name": "stdout",
     "output_type": "stream",
     "text": [
      "5/5 [==============================] - 2s 134ms/step\n",
      "              precision    recall  f1-score   support\n",
      "\n",
      "   Unlabeled       0.00      0.00      0.00         0\n",
      "   crossbite       0.89      0.62      0.73        39\n",
      "      normal       0.89      0.89      0.89        28\n",
      "    openbite       1.00      1.00      1.00        27\n",
      "    overbite       0.88      0.86      0.87        50\n",
      "   underbite       1.00      0.17      0.29         6\n",
      "\n",
      "   micro avg       0.91      0.80      0.85       150\n",
      "   macro avg       0.78      0.59      0.63       150\n",
      "weighted avg       0.91      0.80      0.84       150\n",
      " samples avg       0.83      0.83      0.83       150\n",
      "\n"
     ]
    },
    {
     "name": "stderr",
     "output_type": "stream",
     "text": [
      "/home/fadhel/Workspaces/Project Intern/dental-disease-detection-classification/.venv/lib/python3.8/site-packages/sklearn/metrics/_classification.py:1469: UndefinedMetricWarning: Precision and F-score are ill-defined and being set to 0.0 in labels with no predicted samples. Use `zero_division` parameter to control this behavior.\n",
      "  _warn_prf(average, modifier, msg_start, len(result))\n",
      "/home/fadhel/Workspaces/Project Intern/dental-disease-detection-classification/.venv/lib/python3.8/site-packages/sklearn/metrics/_classification.py:1469: UndefinedMetricWarning: Recall and F-score are ill-defined and being set to 0.0 in labels with no true samples. Use `zero_division` parameter to control this behavior.\n",
      "  _warn_prf(average, modifier, msg_start, len(result))\n",
      "/home/fadhel/Workspaces/Project Intern/dental-disease-detection-classification/.venv/lib/python3.8/site-packages/sklearn/metrics/_classification.py:1469: UndefinedMetricWarning: Precision and F-score are ill-defined and being set to 0.0 in samples with no predicted labels. Use `zero_division` parameter to control this behavior.\n",
      "  _warn_prf(average, modifier, msg_start, len(result))\n"
     ]
    }
   ],
   "source": [
    "from sklearn.metrics import classification_report\n",
    "\n",
    "# Make predictions on the test data\n",
    "y_pred_prob = model.predict(X_test)\n",
    "y_pred = (y_pred_prob > 0.5).astype(int)\n",
    "\n",
    "# Generate the classification report\n",
    "cr_ann = classification_report(y_test, y_pred, target_names=['Unlabeled', 'crossbite', 'normal', 'openbite', 'overbite', 'underbite'])\n",
    "\n",
    "# Print the classification report\n",
    "print(cr_ann)"
   ]
  },
  {
   "cell_type": "code",
   "execution_count": 10,
   "metadata": {},
   "outputs": [],
   "source": [
    "# Save the model to a file\n",
    "model.save(\"classification.h5\")"
   ]
  }
 ],
 "metadata": {
  "kernelspec": {
   "display_name": ".venv",
   "language": "python",
   "name": "python3"
  },
  "language_info": {
   "codemirror_mode": {
    "name": "ipython",
    "version": 3
   },
   "file_extension": ".py",
   "mimetype": "text/x-python",
   "name": "python",
   "nbconvert_exporter": "python",
   "pygments_lexer": "ipython3",
   "version": "3.8.10"
  },
  "orig_nbformat": 4
 },
 "nbformat": 4,
 "nbformat_minor": 2
}
